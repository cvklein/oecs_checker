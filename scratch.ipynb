{
 "cells": [
  {
   "cell_type": "code",
   "execution_count": 2,
   "id": "20dcfc05-b749-413c-b750-e4dd15bd2d72",
   "metadata": {},
   "outputs": [],
   "source": [
    "from docx import Document"
   ]
  },
  {
   "cell_type": "code",
   "execution_count": 4,
   "id": "0e53c5e8-6849-4f81-8c44-1331fc8f5969",
   "metadata": {},
   "outputs": [],
   "source": [
    "document = Document('OECS Article Template.docx')"
   ]
  },
  {
   "cell_type": "code",
   "execution_count": 19,
   "id": "93620eeb-216c-4732-9c6d-c685040b8da6",
   "metadata": {},
   "outputs": [
    {
     "data": {
      "text/plain": [
       "[_ParagraphStyle('normal') id: 4429750160,\n",
       " _TableStyle('Table Normal') id: 4408183568,\n",
       " _ParagraphStyle('Heading 1') id: 4429666256,\n",
       " _ParagraphStyle('Heading 2') id: 4429666768,\n",
       " _ParagraphStyle('Heading 3') id: 4429660368,\n",
       " _ParagraphStyle('Heading 4') id: 4429667280,\n",
       " _ParagraphStyle('Heading 5') id: 4429663824,\n",
       " _ParagraphStyle('Heading 6') id: 4429664144,\n",
       " _ParagraphStyle('Title') id: 4429662992,\n",
       " _ParagraphStyle('Subtitle') id: 4429661136]"
      ]
     },
     "execution_count": 19,
     "metadata": {},
     "output_type": "execute_result"
    }
   ],
   "source": [
    "list(document.styles)"
   ]
  },
  {
   "cell_type": "code",
   "execution_count": 25,
   "id": "01a2b8f7-f5d1-4c55-a00a-5eb4e05422e8",
   "metadata": {},
   "outputs": [
    {
     "data": {
      "text/plain": [
       "['__class__',\n",
       " '__delattr__',\n",
       " '__dict__',\n",
       " '__dir__',\n",
       " '__doc__',\n",
       " '__eq__',\n",
       " '__format__',\n",
       " '__ge__',\n",
       " '__getattribute__',\n",
       " '__getstate__',\n",
       " '__gt__',\n",
       " '__hash__',\n",
       " '__init__',\n",
       " '__init_subclass__',\n",
       " '__le__',\n",
       " '__lt__',\n",
       " '__module__',\n",
       " '__ne__',\n",
       " '__new__',\n",
       " '__reduce__',\n",
       " '__reduce_ex__',\n",
       " '__repr__',\n",
       " '__setattr__',\n",
       " '__sizeof__',\n",
       " '__str__',\n",
       " '__subclasshook__',\n",
       " '__weakref__',\n",
       " '_element',\n",
       " '_insert_paragraph_before',\n",
       " '_p',\n",
       " '_parent',\n",
       " 'add_run',\n",
       " 'alignment',\n",
       " 'clear',\n",
       " 'contains_page_break',\n",
       " 'hyperlinks',\n",
       " 'insert_paragraph_before',\n",
       " 'iter_inner_content',\n",
       " 'paragraph_format',\n",
       " 'part',\n",
       " 'rendered_page_breaks',\n",
       " 'runs',\n",
       " 'style',\n",
       " 'text']"
      ]
     },
     "execution_count": 25,
     "metadata": {},
     "output_type": "execute_result"
    }
   ],
   "source": [
    "z = document.paragraphs[2]\n",
    "dir(z)"
   ]
  },
  {
   "cell_type": "code",
   "execution_count": 26,
   "id": "3ef92436-2f27-40eb-87e9-b8128006a21e",
   "metadata": {},
   "outputs": [
    {
     "data": {
      "text/plain": [
       "_ParagraphStyle('Subtitle') id: 4426655376"
      ]
     },
     "execution_count": 26,
     "metadata": {},
     "output_type": "execute_result"
    }
   ],
   "source": [
    "z.style"
   ]
  },
  {
   "cell_type": "code",
   "execution_count": 13,
   "id": "90a5c11d-b8a7-4468-93c7-129298f06648",
   "metadata": {},
   "outputs": [
    {
     "name": "stdout",
     "output_type": "stream",
     "text": [
      "Title : Theory of Mind \n",
      "Subtitle : Henry M. Wellman (ORCID ID:) 0000-0001-6745-6959 \n",
      "Subtitle : University of Michigan \n",
      "nnn\n",
      "Heading 1 : History \n",
      "nnn\n",
      "Heading 1 : Core concepts \n",
      "Body Text : [!NONSTANDARD STYLE TEXT!]\n",
      "Body Text : [!NONSTANDARD STYLE TEXT!]\n",
      "Body Text : [!NONSTANDARD STYLE TEXT!]\n",
      "nnnnnnnnnnnn\n",
      "Heading 2 : Sequences \n",
      "nnnnnnnnnnnnn\n",
      "Heading 1 : Questions, controversies, and new developments \n",
      "nnnnnnn\n",
      "Heading 1 : Broader connections \n",
      "nnn\n",
      "Heading 1 : Key references \n",
      "nnnnn\n",
      "Heading 1 : Other bibliography \n",
      "nnnnnnn\n",
      "Bibliography : [!NONSTANDARD STYLE TEXT!]\n",
      "n\n",
      "Bibliography : [!NONSTANDARD STYLE TEXT!]\n",
      "nnnn\n",
      "h/indent no underline : [!NONSTANDARD STYLE TEXT!]\n",
      "nnnn\n",
      "Bibliography : [!NONSTANDARD STYLE TEXT!]\n",
      "nn\n",
      "h/indent no underline : [!NONSTANDARD STYLE TEXT!]\n",
      "n\n",
      "Bibliography : [!NONSTANDARD STYLE TEXT!]\n",
      "nnn\n",
      "Bibliography : [!NONSTANDARD STYLE TEXT!]\n",
      "\n",
      "\n",
      "WARNING NONSTANDARD STYLES FOUND, SEE ABOVE\n",
      "-Title present and correctly located\n",
      "-Subtitles present and correctly located\n",
      "SECTION POSITION 4 SHOULD READ [Further reading] ACTUALLY READS [Key references]\n",
      "SECTION POSITION 5 SHOULD READ [References] ACTUALLY READS [Other bibliography]\n"
     ]
    }
   ],
   "source": [
    "document = Document('cvk on theory of mind.docx')\n",
    "correct_order = [\"History\",\"Core concepts\",\"Questions, controversies, and new developments\",\"Broader connections\",\n",
    "                 \"Further reading\",\"References\"]\n",
    "acceptable_styles = [\"title\",\"subtitle\",\"normal\",\"heading 1\",\"heading 2\"] \n",
    "\n",
    "heading_list = [] \n",
    "styles_list = []\n",
    "\n",
    "waspara = False\n",
    "empty_style_warning = False\n",
    "nonstandard_warning = False \n",
    "for p in document.paragraphs:\n",
    "    style = p.style.name \n",
    "    if style.lower().find('normal') == -1:\n",
    "        \n",
    "        if waspara:\n",
    "            print()\n",
    "            waspara = False\n",
    "\n",
    "        if style.lower() not in acceptable_styles: \n",
    "            nonstandard_warning = True\n",
    "            print(style,\": [!NONSTANDARD STYLE TEXT!]\")\n",
    "        else:\n",
    "            text = p.text\n",
    "            flag = \"\"\n",
    "            if len(text)==0:\n",
    "                flag = \"[!EMPTY STYLE!]\" \n",
    "                empty_style_warning = True\n",
    "            print(style,\":\",p.text,flag)\n",
    "            styles_list.append(style)\n",
    "        \n",
    "    else:\n",
    "        print(\"n\",end=\"\")\n",
    "        waspara = True\n",
    "\n",
    "    if style == \"Heading 1\": \n",
    "        text = p.text\n",
    "        text = text.rstrip(\" \") #even template doesn't get this right\n",
    "        if text != \"Acknowledgements\" and text!=\"Keywords\" and (len(text)!=0):\n",
    "            heading_list.append(text)\n",
    "    \n",
    "\n",
    "print()\n",
    "print()\n",
    "\n",
    "if nonstandard_warning: \n",
    "    print(\"WARNING NONSTANDARD STYLES FOUND, SEE ABOVE\") \n",
    "if empty_style_warning:\n",
    "    print(\"WARNING EMPTY STYLED LINES FOUND SEE ABOVE\")\n",
    "if styles_list.count(\"Title\") < 0:\n",
    "    print(\"MISSING TITLE STYLE\")\n",
    "elif styles_list.count(\"Title\") > 1:\n",
    "    print(\"MORE THAN ONE TITLE STYLE\")\n",
    "elif styles_list[0]!=\"Title\":\n",
    "    print(\"TITLE NOT FIRST\")\n",
    "else:\n",
    "    print(\"-Title present and correctly located\") \n",
    "\n",
    "if styles_list.count(\"Subtitle\") != 2:\n",
    "    print(\"SHOULD HAVE 2 SUBTITLE STYLES,COUNT IS WRONG\")\n",
    "elif styles_list[1]!=\"Subtitle\" or styles_list[2]!=\"Subtitle\":\n",
    "    print(\"SUBTITLES NOT IN CORRECT PLACE\")\n",
    "else:\n",
    "    print(\"-Subtitles present and correctly located\") \n",
    "\n",
    "\n",
    "\n",
    "\n",
    "if heading_list == correct_order:\n",
    "    print(\"-Top-level sections correct\")\n",
    "elif len(heading_list) == len(correct_order): \n",
    "    for i,h in enumerate(heading_list):\n",
    "        c  = correct_order[i]\n",
    "        if c!=h:\n",
    "            print(\"SECTION POSITION\",i,\"SHOULD READ\",\"[\"+c+\"]\",\"ACTUALLY READS\",\"[\"+h+\"]\")\n",
    "elif len(heading_list) < len(correct_order): \n",
    "    print(\"SECTION LIST IS TOO SHORT\")\n",
    "    print(\"SHOULD READ\",correct_order)\n",
    "    print(\"ACTUALLY READS\",heading_list)\n",
    "else:\n",
    "    print(\"SECTION LIST IS TOO LONG\")\n",
    "    print(\"SHOULD READ\",correct_order)\n",
    "    print(\"ACTUALLY READS\",heading_list)"
   ]
  },
  {
   "cell_type": "code",
   "execution_count": 59,
   "id": "bbddeb74-c8e2-4016-9500-9581f70ec3c6",
   "metadata": {},
   "outputs": [
    {
     "data": {
      "text/plain": [
       "True"
      ]
     },
     "execution_count": 59,
     "metadata": {},
     "output_type": "execute_result"
    }
   ],
   "source": []
  },
  {
   "cell_type": "code",
   "execution_count": 38,
   "id": "a2c3dd42-a468-4c99-9cea-3a796f798ac0",
   "metadata": {},
   "outputs": [],
   "source": [
    "document = Document('cvk.docx')"
   ]
  },
  {
   "cell_type": "code",
   "execution_count": 41,
   "id": "051b1ca6-bf36-4fc5-a061-f504fc66cbd9",
   "metadata": {},
   "outputs": [
    {
     "name": "stdout",
     "output_type": "stream",
     "text": [
      "Title : 18\n",
      "Subtitle : 33\n",
      "Subtitle : 34\n",
      "*\n",
      "*\n",
      "Heading 1 : 7\n",
      "*\n",
      "*\n",
      "*\n",
      "*\n",
      "*\n",
      "Heading 1 : 13\n",
      "*\n",
      "*\n",
      "*\n",
      "*\n",
      "*\n",
      "*\n",
      "*\n",
      "*\n",
      "*\n",
      "*\n",
      "Heading 1 : 46\n",
      "*\n",
      "*\n",
      "*\n",
      "*\n",
      "Heading 1 : 19\n",
      "*\n",
      "*\n",
      "*\n",
      "Heading 1 : 0\n",
      "Heading 1 : 0\n",
      "Heading 1 : 0\n",
      "Heading 1 : 0\n",
      "Heading 1 : 0\n",
      "Heading 1 : 14\n",
      "*\n",
      "*\n",
      "*\n",
      "*\n",
      "*\n",
      "*\n",
      "Heading 1 : 0\n",
      "Heading 1 : 18\n",
      "*\n",
      "*\n",
      "*\n",
      "*\n",
      "*\n",
      "*\n",
      "*\n",
      "*\n",
      "*\n",
      "*\n",
      "*\n",
      "*\n",
      "*\n",
      "*\n",
      "*\n",
      "*\n",
      "*\n",
      "*\n",
      "*\n",
      "*\n",
      "*\n",
      "*\n",
      "*\n",
      "*\n",
      "*\n",
      "*\n",
      "*\n",
      "*\n",
      "*\n",
      "*\n",
      "*\n",
      "*\n",
      "*\n",
      "*\n",
      "*\n",
      "*\n",
      "*\n",
      "*\n",
      "*\n",
      "*\n",
      "*\n",
      "*\n",
      "*\n",
      "*\n",
      "*\n"
     ]
    }
   ],
   "source": [
    "for p in document.paragraphs:\n",
    "    #print(p.style)\n",
    "    if p.style.name != 'Normal':\n",
    "        print(p.style.name,\":\",len(p.text))\n",
    "    else: \n",
    "        print(\"*\")"
   ]
  },
  {
   "cell_type": "code",
   "execution_count": null,
   "id": "ee520c26-6098-4b13-b3d8-9c85f427420d",
   "metadata": {},
   "outputs": [],
   "source": []
  }
 ],
 "metadata": {
  "kernelspec": {
   "display_name": "Python 3 (ipykernel)",
   "language": "python",
   "name": "python3"
  },
  "language_info": {
   "codemirror_mode": {
    "name": "ipython",
    "version": 3
   },
   "file_extension": ".py",
   "mimetype": "text/x-python",
   "name": "python",
   "nbconvert_exporter": "python",
   "pygments_lexer": "ipython3",
   "version": "3.10.5"
  }
 },
 "nbformat": 4,
 "nbformat_minor": 5
}
